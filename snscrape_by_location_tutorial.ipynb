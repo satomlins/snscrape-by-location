{
 "cells": [
  {
   "cell_type": "code",
   "execution_count": null,
   "metadata": {},
   "outputs": [],
   "source": [
    "import pandas as pd\n",
    "import snscrape.modules.twitter as sntwitter\n",
    "import itertools"
   ]
  },
  {
   "cell_type": "code",
   "execution_count": null,
   "metadata": {},
   "outputs": [],
   "source": [
    "df = pd.DataFrame(itertools.islice(sntwitter.TwitterSearchScraper(\n",
    "    '\"towards data science\"').get_items(), 100))\n",
    "\n",
    "df.head()"
   ]
  },
  {
   "cell_type": "code",
   "execution_count": null,
   "metadata": {},
   "outputs": [],
   "source": [
    "# our search term, using syntax for Twitter's Advanced Search\n",
    "search = 'pizza near:\"Los Angeles\" within:10km'\n",
    "\n",
    "# the scraped tweets, this is a generator\n",
    "scraped_tweets = sntwitter.TwitterSearchScraper(search).get_items()\n",
    "\n",
    "# slicing the generator to keep only the first 50 tweets\n",
    "sliced_scraped_tweets = itertools.islice(scraped_tweets, 50)\n",
    "\n",
    "# convert to a DataFrame and keep only relevant columns\n",
    "df = pd.DataFrame(sliced_scraped_tweets)[['date', 'content']]\n",
    "\n",
    "df.head()"
   ]
  },
  {
   "cell_type": "code",
   "execution_count": null,
   "metadata": {},
   "outputs": [],
   "source": [
    "df_city = pd.DataFrame(itertools.islice(sntwitter.TwitterSearchScraper(\n",
    "    'pizza near:\"Los Angeles\" within:10km').get_items(), 50))[['date', 'content']]\n",
    "\n",
    "df_city.head()"
   ]
  },
  {
   "cell_type": "code",
   "execution_count": null,
   "metadata": {},
   "outputs": [],
   "source": [
    "loc = '34.052235, -118.243683, 10km'\n",
    "df_coord = pd.DataFrame(itertools.islice(sntwitter.TwitterSearchScraper(\n",
    "    'pizza geocode:\"{}\"'.format(loc)).get_items(), 50))[['date', 'content']]\n",
    "\n",
    "df_coord.head()"
   ]
  },
  {
   "cell_type": "code",
   "execution_count": null,
   "metadata": {},
   "outputs": [],
   "source": [
    "common_rows = df_coord.merge(df_city, how='inner')"
   ]
  },
  {
   "cell_type": "code",
   "execution_count": null,
   "metadata": {},
   "outputs": [],
   "source": [
    "loc = '34.052235, -118.243683, 10km'\n",
    "df_coord = pd.DataFrame(itertools.islice(sntwitter.TwitterSearchScraper(\n",
    "    'pizza geocode:\"{}\"'.format(loc)).get_items(), 50))[['user', 'date','content']]\n",
    "\n",
    "df_coord['user_location'] =  df_coord['user'].apply(lambda x: x['location'])\n",
    "\n",
    "df_coord.head()"
   ]
  },
  {
   "cell_type": "code",
   "execution_count": null,
   "metadata": {},
   "outputs": [],
   "source": []
  },
  {
   "cell_type": "code",
   "execution_count": null,
   "metadata": {},
   "outputs": [],
   "source": []
  }
 ],
 "metadata": {
  "kernelspec": {
   "display_name": "Python 3",
   "language": "python",
   "name": "python3"
  },
  "language_info": {
   "codemirror_mode": {
    "name": "ipython",
    "version": 3
   },
   "file_extension": ".py",
   "mimetype": "text/x-python",
   "name": "python",
   "nbconvert_exporter": "python",
   "pygments_lexer": "ipython3",
   "version": "3.8.6"
  },
  "toc": {
   "base_numbering": 1,
   "nav_menu": {},
   "number_sections": true,
   "sideBar": true,
   "skip_h1_title": false,
   "title_cell": "Table of Contents",
   "title_sidebar": "Contents",
   "toc_cell": false,
   "toc_position": {},
   "toc_section_display": true,
   "toc_window_display": false
  }
 },
 "nbformat": 4,
 "nbformat_minor": 4
}
